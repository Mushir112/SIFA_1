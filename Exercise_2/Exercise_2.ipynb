{
 "cells": [
  {
   "attachments": {},
   "cell_type": "markdown",
   "metadata": {},
   "source": [
    "# Exercise 2: Performing SIFA and SEFA on real data\n",
    "\n",
    "Now that we have wrote our implementation of SIFA and SEFA, and have tested it on simulated data. We can now apply it to real data. In this exercise we will apply SIFA and SEFA to the you've collected from the Piñata training target. \n",
    "\n",
    "If you haven't collected data from the Piñata training target, do this first before continuing with this exercise."
   ]
  },
  {
   "cell_type": "code",
   "execution_count": null,
   "metadata": {},
   "outputs": [],
   "source": [
    "from tqdm.notebook import tqdm\n",
    "import numpy as np\n",
    "import pandas as pd\n",
    "import matplotlib.pyplot as plt\n",
    "import secrets\n",
    "import ipytest\n",
    "\n",
    "ipytest.autoconfig()\n",
    "\n",
    "%load_ext autoreload\n",
    "%autoreload 2"
   ]
  },
  {
   "attachments": {},
   "cell_type": "markdown",
   "metadata": {},
   "source": [
    "## Load data from Piñata training target\n",
    "\n",
    "First we will load the data from the Piñata training target. Put the data in the folder and write code below to load the data."
   ]
  },
  {
   "cell_type": "code",
   "execution_count": null,
   "metadata": {},
   "outputs": [],
   "source": [
    "# TODO Load the data\n",
    "\n",
    "try:\n",
    "    with open(\"./data/ciphertexts.txt\") as f:\n",
    "        ciphertexts = np.array([bytes.fromhex(line.strip()) for line in f.readlines()])\n",
    "except FileNotFoundError:\n",
    "    raise FileNotFoundError(\"File not found, make sure you have places the data in the 'data' folder of this exercise.\")\n",
    "\n",
    "# Make sure the shape is correct, shoud be (n,)\n",
    "print(ciphertexts.shape)"
   ]
  },
  {
   "attachments": {},
   "cell_type": "markdown",
   "metadata": {},
   "source": [
    "## Implementing SIFA on Piñata data\n",
    "Use the code from the previous exercise to implement SIFA on the Piñata data."
   ]
  },
  {
   "cell_type": "code",
   "execution_count": null,
   "metadata": {},
   "outputs": [],
   "source": [
    "correct_key = bytes.fromhex(\"CAFEBABEDEADBEEF0001020304050607\")\n",
    "keys = np.array([correct_key] + [secrets.token_bytes(16) for _ in range(10)],\n",
    "                dtype=\"|S16\")\n",
    "\n",
    "# 1. TODO Calculate the intermediate values from the ciphertexts for the \n",
    "#         correct key and 10 random keys\n",
    "intermediates = np.zeros((keys.shape[0], ciphertexts.shape[0]), dtype=np.uint8)\n",
    "\n",
    "# 2. TODO Calculate the p distribution for each intermediate value\n",
    "hists = np.zeros((keys.shape[0], 16, 256), dtype=np.float64)\n",
    "\n",
    "# 3. TODO Calculate SEI distribution for each intermediate value\n",
    "sei_scores = np.zeros((keys.shape[0], 16), dtype=np.float64)"
   ]
  },
  {
   "attachments": {},
   "cell_type": "markdown",
   "metadata": {},
   "source": [
    "### Bias for each byte"
   ]
  },
  {
   "cell_type": "code",
   "execution_count": null,
   "metadata": {},
   "outputs": [],
   "source": [
    "fig, axes = plt.subplots(4,4, dpi=150, sharex=True, sharey=True)\n",
    "fig.suptitle('Distribution of $p$ per byte index')\n",
    "fig.text(0.5, 0.04, 'Byte value', ha='center')\n",
    "fig.text(0, 0.5, '$p$ distribution', va='center', rotation='vertical')\n",
    "\n",
    "for byte_index in range(16):\n",
    "    ax = axes[byte_index%4][byte_index//4]\n",
    "    ax.set_title(f\"Byte {byte_index}\", fontsize=8, y=0.75)\n",
    "    ax.plot(hists[0, byte_index])\n",
    "    ax.axhline(1/256, color = 'red')"
   ]
  },
  {
   "attachments": {},
   "cell_type": "markdown",
   "metadata": {},
   "source": [
    "### SIFA SEI score per byte"
   ]
  },
  {
   "cell_type": "code",
   "execution_count": null,
   "metadata": {},
   "outputs": [],
   "source": [
    "# Plot the SEI scores\n",
    "fig, axes = plt.subplots(4,4, dpi=150, sharex=True, sharey=True)\n",
    "fig.suptitle('SIFA: SEI score of all states per byte index')\n",
    "fig.text(0.5, 0.04, 'Keys', ha='center')\n",
    "fig.text(0, 0.5, 'SEI score', va='center', rotation='vertical')\n",
    "\n",
    "for byte_index in range(16):\n",
    "    ax = axes[byte_index%4][byte_index//4]\n",
    "    ax.set_title(f\"Byte {byte_index}\", fontsize=8, y=0.75)\n",
    "    color = [\"red\"] + [\"blue\"] * (sei_scores.shape[0]-1)\n",
    "    ax.bar(np.arange(sei_scores.shape[0]), sei_scores[:, byte_index], color=color)\n",
    "\n",
    "# Add legend\n",
    "leg = fig.legend([\"Correct key\", \"Random key\"], bbox_to_anchor=(0.95, 0.5), loc='center left', borderaxespad=0)\n",
    "leg.legend_handles[0].set_color('red')\n",
    "leg.legend_handles[1].set_color('blue')"
   ]
  }
 ],
 "metadata": {
  "kernelspec": {
   "display_name": "Python 3",
   "language": "python",
   "name": "python3"
  },
  "language_info": {
   "codemirror_mode": {
    "name": "ipython",
    "version": 3
   },
   "file_extension": ".py",
   "mimetype": "text/x-python",
   "name": "python",
   "nbconvert_exporter": "python",
   "pygments_lexer": "ipython3",
   "version": "3.10.4"
  },
  "orig_nbformat": 4
 },
 "nbformat": 4,
 "nbformat_minor": 2
}
