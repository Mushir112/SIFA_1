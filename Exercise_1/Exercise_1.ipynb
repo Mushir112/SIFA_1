{
 "cells": [
  {
   "attachments": {},
   "cell_type": "markdown",
   "metadata": {},
   "source": [
    "# Exercise 1: Performing SIFA and SEFA on simulation data\n",
    "\n",
    "First we'll try to perform SIFA and SEFA on simulated data. This gives us the opportunity to test our implementation and to see how the algorithms work. In the next exercise we'll apply the algorithms to real data.\n",
    "\n",
    "In this notebook you'll run into sections that are marked **Assignment**. These sections contain functions that you need to implement yourself. You can check your implementation by running the tests that are provided in the same section. When everything works, show it to one of the trainers and then continue with the next exercise."
   ]
  },
  {
   "cell_type": "code",
   "execution_count": null,
   "metadata": {},
   "outputs": [],
   "source": [
    "from tqdm.notebook import tqdm\n",
    "import numpy as np\n",
    "import pandas as pd\n",
    "import matplotlib.pyplot as plt\n",
    "import secrets\n",
    "import ipytest\n",
    "\n",
    "ipytest.autoconfig()\n",
    "\n",
    "%load_ext autoreload\n",
    "%autoreload 2"
   ]
  },
  {
   "attachments": {},
   "cell_type": "markdown",
   "metadata": {},
   "source": [
    "## Load example dataset\n",
    "\n",
    "First we load an example dataset. This we can use to test our code while we implement our SIFA algorithm. Later we will use the same code to run the algorithm on a real dataset."
   ]
  },
  {
   "cell_type": "code",
   "execution_count": null,
   "metadata": {},
   "outputs": [],
   "source": [
    "# Import simulation data from .npz file\n",
    "data = np.load('simulation_data.npz', allow_pickle=True)\n",
    "\n",
    "# Extract data from .npz file\n",
    "effective_ciphertexts = data['effective_ciphertexts']\n",
    "ineffective_ciphertexts = data['ineffective_ciphertexts']\n",
    "correct_key = data['key']\n",
    "\n",
    "# Function to print summary of data\n",
    "def summarize_data(name, data):\n",
    "    print(f'\\n{name} summary:')\n",
    "    print(f'\\tShape:  {data.shape}')\n",
    "    print(f'\\tSize:   {data.size}')\n",
    "    print(f'\\tUnique: {np.unique(data).size}')\n",
    "\n",
    "    print('\\n\\tFirst 5 entries:')\n",
    "    for d in data[:5]:\n",
    "        print('\\t ', d)\n",
    "\n",
    "# Print summary of data\n",
    "print(\"correct_key:\", correct_key)\n",
    "summarize_data('ineffective_ciphertexts', ineffective_ciphertexts)\n",
    "summarize_data('effective_ciphertexts', effective_ciphertexts)"
   ]
  },
  {
   "attachments": {},
   "cell_type": "markdown",
   "metadata": {},
   "source": [
    "## Implementing AES encryption in Python\n",
    "\n",
    "The low level methods defined in [`aes_lib.AESCore`](aes_lib.py) can be used to implement AES functions:"
   ]
  },
  {
   "cell_type": "code",
   "execution_count": null,
   "metadata": {},
   "outputs": [],
   "source": [
    "from aes_lib import AESCore\n",
    "\n",
    "def aes_encrypt(key, plaintext):\n",
    "    # Create an AESCore object\n",
    "    aes = AESCore()\n",
    "\n",
    "    # Generate the subkeys\n",
    "    key_matrices = aes.expand_key(key)\n",
    "\n",
    "    # Encrypt the plaintext\n",
    "    state=aes.bytes2matrix(plaintext)\n",
    "\n",
    "    aes.add_round_key(state, key_matrices[0])\n",
    "\n",
    "    for i in range(1, 10):\n",
    "        aes.sub_bytes(state)\n",
    "        aes.shift_rows(state)\n",
    "        aes.mix_columns(state)\n",
    "        aes.add_round_key(state, key_matrices[i])\n",
    "\n",
    "    aes.sub_bytes(state)\n",
    "    aes.shift_rows(state)\n",
    "    aes.add_round_key(state, key_matrices[-1])\n",
    "\n",
    "    return aes.matrix2bytes(state)"
   ]
  },
  {
   "cell_type": "code",
   "execution_count": null,
   "metadata": {},
   "outputs": [],
   "source": [
    "%%ipytest\n",
    "\n",
    "# Test the aes_encrypt function\n",
    "\n",
    "def test_aes_encrypt_nist_vector1():\n",
    "    key = bytes.fromhex(\"2b7e151628aed2a6abf7158809cf4f3c\")\n",
    "    plaintext = bytes.fromhex(\"6bc1bee22e409f96e93d7e117393172a\")\n",
    "    ciphertext = bytes.fromhex(\"3ad77bb40d7a3660a89ecaf32466ef97\")\n",
    "    assert aes_encrypt(key, plaintext) == ciphertext\n",
    "\n",
    "def test_aes_encrypt_nist_vector2():\n",
    "    key = bytes.fromhex(\"2b7e151628aed2a6abf7158809cf4f3c\")\n",
    "    plaintext = bytes.fromhex(\"ae2d8a571e03ac9c9eb76fac45af8e51\")\n",
    "    ciphertext = bytes.fromhex(\"f5d3d58503b9699de785895a96fdbaaf\")\n",
    "    assert aes_encrypt(key, plaintext) == ciphertext\n",
    "\n",
    "def test_aes_encrypt_nist_vector3():\n",
    "    key = bytes.fromhex(\"2b7e151628aed2a6abf7158809cf4f3c\")\n",
    "    plaintext = bytes.fromhex(\"30c81c46a35ce411e5fbc1191a0a52ef\")\n",
    "    ciphertext = bytes.fromhex(\"43b1cd7f598ece23881b00e3ed030688\")\n",
    "    assert aes_encrypt(key, plaintext) == ciphertext"
   ]
  },
  {
   "attachments": {},
   "cell_type": "markdown",
   "metadata": {},
   "source": [
    "The same goes for decryption:"
   ]
  },
  {
   "cell_type": "code",
   "execution_count": null,
   "metadata": {},
   "outputs": [],
   "source": [
    "from aes_lib import AESCore\n",
    "\n",
    "def aes_decrypt(key, ciphertext):\n",
    "    # Create an AESCore object\n",
    "    aes = AESCore()\n",
    "\n",
    "    # Generate the subkeys\n",
    "    key_matrices = aes.expand_key(key)\n",
    "\n",
    "    # Decrypt the ciphertext\n",
    "    state=aes.bytes2matrix(ciphertext)\n",
    "\n",
    "    aes.add_round_key(state, key_matrices[-1])\n",
    "\n",
    "    for i in range(9, 0, -1):\n",
    "        aes.inv_shift_rows(state)\n",
    "        aes.inv_sub_bytes(state)\n",
    "        aes.add_round_key(state, key_matrices[i])\n",
    "        aes.inv_mix_columns(state)\n",
    "\n",
    "    aes.inv_shift_rows(state)\n",
    "    aes.inv_sub_bytes(state)\n",
    "    aes.add_round_key(state, key_matrices[0])\n",
    "\n",
    "    return aes.matrix2bytes(state)"
   ]
  },
  {
   "cell_type": "code",
   "execution_count": null,
   "metadata": {},
   "outputs": [],
   "source": [
    "%%ipytest\n",
    "\n",
    "# Test the aes_decrypt function\n",
    "\n",
    "def test_aes_decrypt_nist_vector1():\n",
    "    key = bytes.fromhex(\"2b7e151628aed2a6abf7158809cf4f3c\")\n",
    "    plaintext = bytes.fromhex(\"6bc1bee22e409f96e93d7e117393172a\")\n",
    "    ciphertext = bytes.fromhex(\"3ad77bb40d7a3660a89ecaf32466ef97\")\n",
    "    assert aes_decrypt(key, ciphertext) == plaintext\n",
    "\n",
    "def test_aes_decrypt_nist_vector2():\n",
    "    key = bytes.fromhex(\"2b7e151628aed2a6abf7158809cf4f3c\")\n",
    "    plaintext = bytes.fromhex(\"ae2d8a571e03ac9c9eb76fac45af8e51\")\n",
    "    ciphertext = bytes.fromhex(\"f5d3d58503b9699de785895a96fdbaaf\")\n",
    "    assert aes_decrypt(key, ciphertext) == plaintext\n",
    "\n",
    "def test_aes_decrypt_nist_vector3():\n",
    "    key = bytes.fromhex(\"2b7e151628aed2a6abf7158809cf4f3c\")\n",
    "    plaintext = bytes.fromhex(\"30c81c46a35ce411e5fbc1191a0a52ef\")\n",
    "    ciphertext = bytes.fromhex(\"43b1cd7f598ece23881b00e3ed030688\")\n",
    "    assert aes_decrypt(key, ciphertext) == plaintext"
   ]
  },
  {
   "attachments": {},
   "cell_type": "markdown",
   "metadata": {},
   "source": [
    "## Exercise 1a: Decrypt to intermediate value\n",
    "\n",
    "The first step is to calculate the intermediate value that was targeted by the fault for every ciphertext. As shown in [*\"Fault Attacks on AES with Faulty Ciphertexts Only\"* by Furh et al](https://www.ssi.gouv.fr/uploads/IMG/pdf/Fault_Attacks_on_AES_with_Faulty_Ciphertexts_Only.pdf). this attack can be mounted on $\\tilde{S} m o d_9^i$ as the inverse SubBytes and the AddRoundKey operations only perform a permutation of the values of the end distribution, therefore keeping the number of occurrences as an invariant for every hypotheses. \n",
    "\n",
    "$\n",
    "\\tilde{S} m o d_9^i=M C^{-1} \\circ S B^{-1} \\circ S R^{-1}\\left(\\tilde{C}^i \\oplus K_{10}\\right) \\text {. }\n",
    "$\n",
    "\n",
    "We can therefore calculate the intermediate values for every ciphertext by applying the inverse operations of the AES encryption algorithm. We can then use these intermediate values to calculate the probabilities of the key hypotheses.\n",
    "\n",
    "### **Assignment**\n",
    "**Implement an function `aes_decrypt_to_intermediate(key, ciphertext)` that takes a key and an ciphertext and calculate the $\\tilde{S} m o d_9^i$ intermediate value.**\n"
   ]
  },
  {
   "cell_type": "code",
   "execution_count": null,
   "metadata": {},
   "outputs": [],
   "source": [
    "from aes_lib import AESCore\n",
    "\n",
    "# Remove the following line and implement the function below\n",
    "raise NotImplementedError(\"Complete the assignment: implement the aes_decrypt_to_intermediate function\")\n",
    "\n",
    "def aes_decrypt_to_intermediate(key, ciphertext):\n",
    "    aes = AESCore()\n",
    "    state = aes.bytes2matrix(ciphertext)\n",
    "    \n",
    "    # 1. TODO Perform key expansion to get the subkeys\n",
    "    # 2. TODO Perform add round key operation with the last subkey\n",
    "    # 3. TODO Perform inverse shift rows operation\n",
    "    # 4. TODO Perform inverse sub bytes operation\n",
    "    # 5. TODO Perform inverse mix columns operation\n",
    "    \n",
    "    intermediate_value = aes.matrix2bytes(state)\n",
    "    return intermediate_value"
   ]
  },
  {
   "attachments": {},
   "cell_type": "markdown",
   "metadata": {},
   "source": [
    "Now run the following code to test your implementation, if all three tests pass you can continue to the next step:"
   ]
  },
  {
   "cell_type": "code",
   "execution_count": null,
   "metadata": {},
   "outputs": [],
   "source": [
    "%%ipytest\n",
    "\n",
    "# Test aes_decrypt_to_intermediate function\n",
    "\n",
    "def test_aes_decrypt_to_intermediate_nist_vector1():\n",
    "    key = bytes.fromhex(\"2b7e151628aed2a6abf7158809cf4f3c\")\n",
    "    ciphertext = bytes.fromhex(\"3ad77bb40d7a3660a89ecaf32466ef97\")\n",
    "    intermediate_value = bytes.fromhex(\"8f48aaccec0c4c1371a83c9911427aea\")\n",
    "    assert aes_decrypt_to_intermediate(key, ciphertext) == intermediate_value\n",
    "\n",
    "def test_aes_decrypt_to_intermediate_nist_vector2():\n",
    "    key = bytes.fromhex(\"2b7e151628aed2a6abf7158809cf4f3c\")\n",
    "    ciphertext = bytes.fromhex(\"f5d3d58503b9699de785895a96fdbaaf\")\n",
    "    intermediate_value = bytes.fromhex(\"f2178e8abaf98be452174f77f3b99ce5\")\n",
    "    assert aes_decrypt_to_intermediate(key, ciphertext) == intermediate_value\n",
    "\n",
    "def test_aes_decrypt_to_intermediate_nist_vector3():\n",
    "    key = bytes.fromhex(\"2b7e151628aed2a6abf7158809cf4f3c\")\n",
    "    ciphertext = bytes.fromhex(\"43b1cd7f598ece23881b00e3ed030688\")\n",
    "    intermediate_value = bytes.fromhex(\"08b809e88801930d1aa7f3d1838973b9\")\n",
    "    assert aes_decrypt_to_intermediate(key, ciphertext) == intermediate_value"
   ]
  },
  {
   "attachments": {},
   "cell_type": "markdown",
   "metadata": {},
   "source": [
    "## Calculate intermediate values for all ciphertexts\n",
    "\n",
    "Now we can calculate the intermediate values for all ciphertexts in the dataset. We can then use these intermediate values to calculate the probabilities of the key hypotheses."
   ]
  },
  {
   "cell_type": "code",
   "execution_count": null,
   "metadata": {},
   "outputs": [],
   "source": [
    "ineffective_intermediates = np.vectorize(aes_decrypt_to_intermediate)(correct_key, ineffective_ciphertexts)\n",
    "effective_intermediates = np.vectorize(aes_decrypt_to_intermediate)(correct_key, effective_ciphertexts)"
   ]
  },
  {
   "attachments": {},
   "cell_type": "markdown",
   "metadata": {},
   "source": [
    "## Exercise 1b: Calculate bias for each byte\n",
    "\n",
    "Next we calculate the bias for each byte of the intermediate values. For this the [`np.histogram`](https://numpy.org/doc/stable/reference/generated/numpy.histogram.html) function can be used. It is important when using `np.histogram` to set the arguments `bins = 256` and `range=(0,256)`. This will ensure that the histogram is calculated for every possible byte value.\n",
    "\n",
    "### **Assignment**\n",
    "**Implement an function `calc_p_distribution(intermediates, normalize=True)` that takes an array of intermediates and boolean to determine of the output should be normalized.**"
   ]
  },
  {
   "cell_type": "code",
   "execution_count": null,
   "metadata": {},
   "outputs": [],
   "source": [
    "# Remove the following line and implement the function below\n",
    "raise NotImplementedError(\"Complete the assignment: implement the calc_p_distribution function\")\n",
    "\n",
    "def calc_p_distribution(intermediates, normalize=True):\n",
    "    hists = np.zeros((16, 256))\n",
    "\n",
    "    #    NOTE intermediates shape is (n,)\n",
    "    # 1. TODO Convert each bytearray to an array of integers, shape should be (n, 16)\n",
    "    # 2. TODO Transpose the array, shape should be (16, n)\n",
    "    # 3. TODO Calculate the histogram of each row, shape should be (16, 256)\n",
    "    # 4. TODO Normalize the histograms, shape should be (16, 256)\n",
    "\n",
    "    return hists "
   ]
  },
  {
   "attachments": {},
   "cell_type": "markdown",
   "metadata": {},
   "source": [
    "Now run the following code to test your implementation, if all three tests pass you can continue to the next step:"
   ]
  },
  {
   "cell_type": "code",
   "execution_count": null,
   "metadata": {},
   "outputs": [],
   "source": [
    "%%ipytest\n",
    "\n",
    "# Test calc_p_distribution function\n",
    "\n",
    "def test_calc_p_distribution_1():\n",
    "    data = np.load(\"test_data/p_distributions.npz\")\n",
    "    assert np.all(calc_p_distribution(data[\"in1\"], normalize=False) == data[\"out1\"])\n",
    "\n",
    "def test_calc_p_distribution_2():\n",
    "    data = np.load(\"test_data/p_distributions.npz\")\n",
    "    assert np.allclose(calc_p_distribution(data[\"in2\"], normalize=True), data[\"out2\"])\n",
    "\n",
    "def test_calc_p_distribution_3():\n",
    "    data = np.load(\"test_data/p_distributions.npz\")\n",
    "    assert np.all(calc_p_distribution(data[\"in3\"], normalize=False) == data[\"out3\"])\n",
    "\n",
    "def test_calc_p_distribution_4():\n",
    "    data = np.load(\"test_data/p_distributions.npz\")\n",
    "    assert np.allclose(calc_p_distribution(data[\"in4\"], normalize=True), data[\"out4\"])"
   ]
  },
  {
   "attachments": {},
   "cell_type": "markdown",
   "metadata": {},
   "source": [
    "Next the distribution for every byte is plotted. The red line represents a perfectly random distribution. Therefore, the closer the distribution approaches the red line, the less bias there is in that byte. As expected, there is a large bias in the first byte compared to the other bytes (if this is not the case ask one of the trainers to review your implementation)."
   ]
  },
  {
   "cell_type": "code",
   "execution_count": null,
   "metadata": {},
   "outputs": [],
   "source": [
    "hists = calc_p_distribution(ineffective_intermediates, normalize=True)\n",
    "\n",
    "fig, axes = plt.subplots(4,4, dpi=150, sharex=True, sharey=True)\n",
    "fig.suptitle('Distribution of $p$ per byte index')\n",
    "fig.text(0.5, 0.04, 'Byte value', ha='center')\n",
    "fig.text(0, 0.5, '$p$ distribution', va='center', rotation='vertical')\n",
    "\n",
    "for byte_index in range(16):\n",
    "    ax = axes[byte_index%4][byte_index//4]\n",
    "    ax.set_title(f\"Byte {byte_index}\", fontsize=8, y=0.75)\n",
    "    ax.plot(hists[byte_index])\n",
    "    ax.axhline(1/256, color = 'red')"
   ]
  },
  {
   "attachments": {},
   "cell_type": "markdown",
   "metadata": {},
   "source": [
    "## Exercise 1c: Calculate SEI score for every key and every byte\n",
    "\n",
    "\n",
    "The SEI score is a single number that tells you how much difference exists between your observed distribution and the distribution you would expect if there was no bias at all. Therefore, the higher the SEI score the more biased our data is. If the correct key has a greater bias than an incorrect key in certain byte this property can be exploited to brute force for of the key bytes with a search space of only $2^{32}$. \n",
    "\n",
    "As shown in [*\"SIFA: Exploiting Ineffective Fault Inductions on Symmetric Cryptography\"* by Dobraunig et al.](https://eprint.iacr.org/2018/071.pdf) the SEI score can be defined as:\n",
    "\n",
    "$\n",
    "S(\\hat{p})=\\operatorname{SEI}(\\hat{p}):=\\sum_{x \\in \\mathcal{X}}(\\hat{p}(x)-\\theta(x))^2=\\left(N \\cdot 2^b\\right)^{-1} \\cdot \\operatorname{CHI}(\\hat{p}) .\n",
    "$\n",
    "\n",
    "### **Assignment**\n",
    "**Implement an function `calc_sei_score(p_distribution)` that takes an array of p distributions, shape (16, 256), and returns the sei for every byte, shape (16,).**"
   ]
  },
  {
   "cell_type": "code",
   "execution_count": null,
   "metadata": {},
   "outputs": [],
   "source": [
    "# Remove the following line and implement the function below\n",
    "raise NotImplementedError(\"Complete the assignment: implement the calc_p_distribution function\")\n",
    "\n",
    "def calc_sei_score(p_distribution):\n",
    "    sei_scores = np.zeros(16)\n",
    "\n",
    "    #    NOTE p_distribution shape is (16,256)\n",
    "    # 1. TODO Calculate the SEI score for each byte index\n",
    "    # 2. TODO Return the SEI score for each byte index as a numpy array of \n",
    "    #         shape (16,)\n",
    "    \n",
    "    return sei_scores"
   ]
  },
  {
   "attachments": {},
   "cell_type": "markdown",
   "metadata": {},
   "source": [
    "Now run the following code to test your implementation, if all three tests pass you can continue to the next step:"
   ]
  },
  {
   "cell_type": "code",
   "execution_count": null,
   "metadata": {},
   "outputs": [],
   "source": [
    "%%ipytest\n",
    "\n",
    "# Test calc_sei_score function\n",
    "\n",
    "def test_calc_sei_score_1():\n",
    "    data = np.load(\"test_data/sei_score.npz\")\n",
    "    assert np.allclose(calc_sei_score(data[\"in1\"]), data[\"out1\"])\n",
    "\n",
    "def test_calc_sei_score_2():\n",
    "    data = np.load(\"test_data/sei_score.npz\")\n",
    "    assert np.allclose(calc_sei_score(data[\"in2\"]), data[\"out2\"])\n",
    "\n",
    "def test_calc_sei_score_3():\n",
    "    data = np.load(\"test_data/sei_score.npz\")\n",
    "    assert np.allclose(calc_sei_score(data[\"in3\"]), data[\"out3\"])"
   ]
  },
  {
   "attachments": {},
   "cell_type": "markdown",
   "metadata": {},
   "source": [
    "## Calculate the SEI for correct and incorrect keys\n",
    "\n",
    "Now the SEI score can be determined for every byte for the correct key and 10 incorrect keys. We can perform both SIFA and SEFA and compare the results.\n",
    "\n",
    "### SIFA SEI score per byte\n",
    "As expected, the SEI score is in the first byte is higher for the correct key (if this is not the case ask one of the trainers to review your implementation). This means that using these ciphertexts, 4 key bytes can be bruteforced with a search space of only $2^{32}$."
   ]
  },
  {
   "cell_type": "code",
   "execution_count": null,
   "metadata": {},
   "outputs": [],
   "source": [
    "# Keyarray with 10 incorrect keys and 1 correct key\n",
    "keys = np.array([correct_key] + [secrets.token_bytes(16) for _ in range(10)],\n",
    "                dtype=\"|S16\")\n",
    "\n",
    "# Calculate the intermediate values for all keys and ciphertexts\n",
    "intermediates = np.zeros((keys.shape[0], ineffective_ciphertexts.shape[0]), \n",
    "                         dtype=\"|S16\")\n",
    "for i, key in tqdm(enumerate(keys), total=keys.shape[0]):\n",
    "    intermediates[i] = np.vectorize(aes_decrypt_to_intermediate)(key, ineffective_ciphertexts)\n",
    "\n",
    "# Calculate the p distribution for all keys and intermediate values\n",
    "hists = np.apply_along_axis(calc_p_distribution, axis=1, arr=intermediates, normalize=True)\n",
    "\n",
    "# Calculate the SEI score for all keys and p distributions\n",
    "sei_scores = np.zeros((keys.shape[0], 16))\n",
    "for i, key in tqdm(enumerate(keys), total=keys.shape[0]):\n",
    "    sei_scores[i] = calc_sei_score(hists[i])\n",
    "\n",
    "# Plot the SEI score for all keys\n",
    "fig, axes = plt.subplots(4,4, dpi=150, sharex=True, sharey=True)\n",
    "fig.suptitle('SIFA: SEI score of all states per byte index')\n",
    "fig.text(0.5, 0.04, 'Keys', ha='center')\n",
    "fig.text(0, 0.5, 'SEI score', va='center', rotation='vertical')\n",
    "\n",
    "for byte_index in range(16):\n",
    "    ax = axes[byte_index%4][byte_index//4]\n",
    "    ax.set_title(f\"Byte {byte_index}\", fontsize=8, y=0.75)\n",
    "    color = [\"red\"] + [\"blue\"] * (sei_scores.shape[0]-1)\n",
    "    ax.bar(np.arange(sei_scores.shape[0]), sei_scores[:, byte_index], color=color)\n",
    "\n",
    "# Add legend\n",
    "leg = fig.legend([\"Correct key\", \"Random key\"], bbox_to_anchor=(0.95, 0.5), loc='center left', borderaxespad=0)\n",
    "leg.legend_handles[0].set_color('red')\n",
    "leg.legend_handles[1].set_color('blue')"
   ]
  },
  {
   "attachments": {},
   "cell_type": "markdown",
   "metadata": {},
   "source": [
    "### SEFA SEI score per byte\n",
    "As expected, the SEI score is in the first byte is higher for the correct key (if this is not the case ask one of the trainers to review your implementation). This means that using these ciphertexts, 4 key bytes can be bruteforced with a search space of only $2^{32}$.\n",
    "\n",
    "Note that the SEI score for the correct key is much higher using SEFA than using SIFA, **why do you think this is the case?**"
   ]
  },
  {
   "cell_type": "code",
   "execution_count": null,
   "metadata": {},
   "outputs": [],
   "source": [
    "# Keyarray with correct key and 10 random keys\n",
    "keys = np.array([correct_key] + [secrets.token_bytes(16) for _ in range(10)], dtype=\"|S16\")\n",
    "\n",
    "# Calculate the intermediate states for all keys and ciphertexts\n",
    "intermediates = np.zeros((keys.shape[0], effective_ciphertexts.shape[0]), dtype=\"|S16\")\n",
    "for i, key in tqdm(enumerate(keys), total=keys.shape[0]):\n",
    "    intermediates[i] = np.vectorize(aes_decrypt_to_intermediate)(key, effective_ciphertexts)\n",
    "\n",
    "# Calculate the p distribution for all keys and intermediate values\n",
    "hists = np.apply_along_axis(calc_p_distribution, axis=1, arr=intermediates, normalize=True)\n",
    "\n",
    "# Calculate the SEI score for all keys and p distributions\n",
    "sei_scores = np.zeros((keys.shape[0], 16))\n",
    "for i, key in tqdm(enumerate(keys), total=keys.shape[0]):\n",
    "    sei_scores[i] = calc_sei_score(hists[i])\n",
    "\n",
    "# Plot the SEI scores\n",
    "fig, axes = plt.subplots(4,4, dpi=150, sharex=True, sharey=True)\n",
    "fig.suptitle('SEFA: SEI score of all states per byte index')\n",
    "fig.text(0.5, 0.04, 'Keys', ha='center')\n",
    "fig.text(0, 0.5, 'SEI score', va='center', rotation='vertical')\n",
    "\n",
    "for byte_index in range(16):\n",
    "    ax = axes[byte_index%4][byte_index//4]\n",
    "    ax.set_title(f\"Byte {byte_index}\", fontsize=8, y=0.75)\n",
    "    color = [\"red\"] + [\"blue\"] * (sei_scores.shape[0]-1)\n",
    "    ax.bar(np.arange(sei_scores.shape[0]), sei_scores[:, byte_index], color=color)\n",
    "\n",
    "# Add legend\n",
    "leg = fig.legend([\"Correct key\", \"Random key\"], bbox_to_anchor=(0.95, 0.5), loc='center left', borderaxespad=0)\n",
    "leg.legend_handles[0].set_color('red')\n",
    "leg.legend_handles[1].set_color('blue')"
   ]
  },
  {
   "attachments": {},
   "cell_type": "markdown",
   "metadata": {},
   "source": [
    "## Good job!\n",
    "\n",
    "![](https://media.tenor.com/kxzr3-r6XoIAAAAM/lets-get-this-party-started-yeah.gif)\n",
    "\n",
    "### **Now you can continue to [Exercise 2](../Exercise_2/Exercise_2.ipynb).**"
   ]
  }
 ],
 "metadata": {
  "kernelspec": {
   "display_name": "Python 3",
   "language": "python",
   "name": "python3"
  },
  "language_info": {
   "codemirror_mode": {
    "name": "ipython",
    "version": 3
   },
   "file_extension": ".py",
   "mimetype": "text/x-python",
   "name": "python",
   "nbconvert_exporter": "python",
   "pygments_lexer": "ipython3",
   "version": "3.10.4"
  },
  "orig_nbformat": 4
 },
 "nbformat": 4,
 "nbformat_minor": 2
}
